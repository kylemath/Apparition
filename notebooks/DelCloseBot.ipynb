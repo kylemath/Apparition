{
  "nbformat": 4,
  "nbformat_minor": 0,
  "metadata": {
    "colab": {
      "name": "DelCloseBot.ipynb",
      "version": "0.3.2",
      "provenance": [],
      "collapsed_sections": [],
      "toc_visible": true,
      "include_colab_link": true
    },
    "kernelspec": {
      "name": "python2",
      "display_name": "Python 2"
    },
    "accelerator": "GPU"
  },
  "cells": [
    {
      "cell_type": "markdown",
      "metadata": {
        "id": "view-in-github",
        "colab_type": "text"
      },
      "source": [
        "<a href=\"https://colab.research.google.com/github/kylemath/DelCloseBot/blob/master/notebooks/DelCloseBot.ipynb\" target=\"_parent\"><img src=\"https://colab.research.google.com/assets/colab-badge.svg\" alt=\"Open In Colab\"/></a>"
      ]
    },
    {
      "metadata": {
        "colab_type": "text",
        "id": "AVOIVLl1zWY6"
      },
      "cell_type": "markdown",
      "source": [
        "## DelCloseBot\n",
        "\n",
        "Goal is to make a DelCloseBot using old youtube footage. Will have live actor filmed with webcam during show whose pose gets transformed into real time DelClose Poses shown to audience, with voice impressonation reading lines scripted from dialogue AI. \n",
        "\n",
        "\n",
        "*   Using https://github.com/datitran/face2face-demo\n",
        "*   youtube video here https://www.youtube.com/watch?v=DjbQaSPPsqA\n",
        "*   saved into .mp4 with https://www.onlinevideoconverter.com/youtube-converter \n",
        "\n",
        "\n",
        "\n",
        "Instructions:\n",
        "* Connect colab to google drive \n",
        "* save the .mp4 video into a folder, \n",
        "* download the facial landmark model from http://dlib.net/files/shape_predictor_68_face_landmarks.dat.bz2\n",
        "* after uncompressing locally and saving to google drive \n",
        "\n",
        "Tactics:\n",
        "* Convert video into side by side images of video and face structure\n",
        "* Train model on these side by side images to predict DelClose from Face pose\n",
        "* Use live webam to get net face structure\n",
        "* Convert new face structure to DelClose pose with model in real time"
      ]
    },
    {
      "metadata": {
        "colab_type": "text",
        "id": "UfVyESCxTaiu"
      },
      "cell_type": "markdown",
      "source": [
        "## Prepare Environment ##\n",
        "\n",
        "* Instal git repo\n",
        "\n",
        "* Install anaconda and setup to use\n",
        "\n",
        "* Create conda environment and activate it\n",
        "\n",
        "* Install some needed packages\n",
        ">   ISSUE - dlib install takes about 10 minutes to compile, find way to speed up?\n",
        "\n",
        "* Mount your google drive to load and save from\n",
        " > Note you have to follow the link here and get the activation code before proceeding"
      ]
    },
    {
      "metadata": {
        "id": "YIUdaNJ8Y5mK",
        "colab_type": "code",
        "outputId": "a08d7c8b-b196-4686-8333-21b822223838",
        "colab": {
          "base_uri": "https://localhost:8080/",
          "height": 292
        }
      },
      "cell_type": "code",
      "source": [
        "#mount google drive to load own images, follow link and get code and paste in below\n",
        "from google.colab import drive\n",
        "drive.mount('/content/gdrive', force_remount=True)\n",
        "\n",
        "!git clone https://github.com/datitran/face2face-demo.git --recursive\n",
        "# Clone the repo from Christopher Hesse's pix2pix TensorFlow implementation\n",
        "!git clone https://github.com/affinelayer/pix2pix-tensorflow.git\n"
      ],
      "execution_count": 1,
      "outputs": [
        {
          "output_type": "stream",
          "text": [
            "Go to this URL in a browser: https://accounts.google.com/o/oauth2/auth?client_id=947318989803-6bn6qk8qdgf4n4g3pfee6491hc0brc4i.apps.googleusercontent.com&redirect_uri=urn%3Aietf%3Awg%3Aoauth%3A2.0%3Aoob&scope=email%20https%3A%2F%2Fwww.googleapis.com%2Fauth%2Fdocs.test%20https%3A%2F%2Fwww.googleapis.com%2Fauth%2Fdrive%20https%3A%2F%2Fwww.googleapis.com%2Fauth%2Fdrive.photos.readonly%20https%3A%2F%2Fwww.googleapis.com%2Fauth%2Fpeopleapi.readonly&response_type=code\n",
            "\n",
            "Enter your authorization code:\n",
            "··········\n",
            "Mounted at /content/gdrive\n",
            "Cloning into 'face2face-demo'...\n",
            "remote: Enumerating objects: 1, done.\u001b[K\n",
            "remote: Counting objects: 100% (1/1), done.\u001b[K\n",
            "remote: Total 33 (delta 0), reused 0 (delta 0), pack-reused 32\u001b[K\n",
            "Unpacking objects: 100% (33/33), done.\n",
            "Cloning into 'pix2pix-tensorflow'...\n",
            "remote: Enumerating objects: 261, done.\u001b[K\n",
            "remote: Total 261 (delta 0), reused 0 (delta 0), pack-reused 261\u001b[K\n",
            "Receiving objects: 100% (261/261), 13.33 MiB | 25.85 MiB/s, done.\n",
            "Resolving deltas: 100% (105/105), done.\n"
          ],
          "name": "stdout"
        }
      ]
    },
    {
      "metadata": {
        "colab_type": "code",
        "id": "REuKAVgQSfq4",
        "outputId": "dc5f0409-4505-4faa-b12a-66dc025d45ed",
        "colab": {
          "base_uri": "https://localhost:8080/",
          "height": 1848
        }
      },
      "cell_type": "code",
      "source": [
        "!wget -c https://repo.continuum.io/archive/Anaconda3-5.1.0-Linux-x86_64.sh\n",
        "!chmod +x Anaconda3-5.1.0-Linux-x86_64.sh\n",
        "!bash ./Anaconda3-5.1.0-Linux-x86_64.sh -b -f -p /usr/local\n",
        "\n",
        "import sys\n",
        "sys.path.append('/usr/local/lib/python3.6/site-packages/')\n",
        "\n",
        "!conda env create -f face2face-demo/environment.yml \n",
        "#not sure this actually works in colab:\n",
        "!source activate face2face-demo\n",
        "#since I have to do this after:\n",
        "!pip install opencv-python\n",
        "!pip install imutils==0.4.3\n",
        "!pip install tensorflow==1.2.1\n",
        "\n",
        "\n",
        "\n"
      ],
      "execution_count": 0,
      "outputs": [
        {
          "output_type": "stream",
          "text": [
            "--2019-01-27 22:26:32--  https://repo.continuum.io/archive/Anaconda3-5.1.0-Linux-x86_64.sh\n",
            "Resolving repo.continuum.io (repo.continuum.io)... 104.16.18.10, 104.16.19.10, 2606:4700::6810:130a, ...\n",
            "Connecting to repo.continuum.io (repo.continuum.io)|104.16.18.10|:443... connected.\n",
            "HTTP request sent, awaiting response... 200 OK\n",
            "Length: 577996269 (551M) [application/x-sh]\n",
            "Saving to: ‘Anaconda3-5.1.0-Linux-x86_64.sh’\n",
            "\n",
            "Anaconda3-5.1.0-Lin 100%[===================>] 551.22M  99.2MB/s    in 5.1s    \n",
            "\n",
            "2019-01-27 22:26:38 (109 MB/s) - ‘Anaconda3-5.1.0-Linux-x86_64.sh’ saved [577996269/577996269]\n",
            "\n",
            "PREFIX=/usr/local\n",
            "installing: python-3.6.4-hc3d631a_1 ...\n",
            "Python 3.6.4 :: Anaconda, Inc.\n",
            "installing: ca-certificates-2017.08.26-h1d4fec5_0 ...\n",
            "installing: conda-env-2.6.0-h36134e3_1 ...\n",
            "installing: intel-openmp-2018.0.0-hc7b2577_8 ...\n",
            "installing: libgcc-ng-7.2.0-h7cc24e2_2 ...\n",
            "installing: libgfortran-ng-7.2.0-h9f7466a_2 ...\n",
            "installing: libstdcxx-ng-7.2.0-h7a57d05_2 ...\n",
            "installing: bzip2-1.0.6-h9a117a8_4 ...\n",
            "installing: expat-2.2.5-he0dffb1_0 ...\n",
            "installing: gmp-6.1.2-h6c8ec71_1 ...\n",
            "installing: graphite2-1.3.10-hf63cedd_1 ...\n",
            "installing: icu-58.2-h9c2bf20_1 ...\n",
            "installing: jbig-2.1-hdba287a_0 ...\n",
            "installing: jpeg-9b-h024ee3a_2 ...\n",
            "installing: libffi-3.2.1-hd88cf55_4 ...\n",
            "installing: libsodium-1.0.15-hf101ebd_0 ...\n",
            "installing: libtool-2.4.6-h544aabb_3 ...\n",
            "installing: libxcb-1.12-hcd93eb1_4 ...\n",
            "installing: lzo-2.10-h49e0be7_2 ...\n",
            "installing: mkl-2018.0.1-h19d6760_4 ...\n",
            "installing: ncurses-6.0-h9df7e31_2 ...\n",
            "installing: openssl-1.0.2n-hb7f436b_0 ...\n",
            "installing: patchelf-0.9-hf79760b_2 ...\n",
            "installing: pcre-8.41-hc27e229_1 ...\n",
            "installing: pixman-0.34.0-hceecf20_3 ...\n",
            "installing: tk-8.6.7-hc745277_3 ...\n",
            "installing: unixodbc-2.3.4-hc36303a_1 ...\n",
            "installing: xz-5.2.3-h55aa19d_2 ...\n",
            "installing: yaml-0.1.7-had09818_2 ...\n",
            "installing: zlib-1.2.11-ha838bed_2 ...\n",
            "installing: glib-2.53.6-h5d9569c_2 ...\n",
            "installing: hdf5-1.10.1-h9caa474_1 ...\n",
            "installing: libedit-3.1-heed3624_0 ...\n",
            "installing: libpng-1.6.34-hb9fc6fc_0 ...\n",
            "installing: libssh2-1.8.0-h9cfc8f7_4 ...\n",
            "installing: libtiff-4.0.9-h28f6b97_0 ...\n",
            "installing: libxml2-2.9.7-h26e45fe_0 ...\n",
            "installing: mpfr-3.1.5-h11a74b3_2 ...\n",
            "installing: pandoc-1.19.2.1-hea2e7c5_1 ...\n",
            "installing: readline-7.0-ha6073c6_4 ...\n",
            "installing: zeromq-4.2.2-hbedb6e5_2 ...\n",
            "installing: dbus-1.12.2-hc3f9b76_1 ...\n",
            "installing: freetype-2.8-hab7d2ae_1 ...\n",
            "installing: gstreamer-1.12.4-hb53b477_0 ...\n",
            "installing: libcurl-7.58.0-h1ad7b7a_0 ...\n",
            "installing: libxslt-1.1.32-h1312cb7_0 ...\n",
            "installing: mpc-1.0.3-hec55b23_5 ...\n",
            "installing: sqlite-3.22.0-h1bed415_0 ...\n",
            "installing: curl-7.58.0-h84994c4_0 ...\n",
            "installing: fontconfig-2.12.4-h88586e7_1 ...\n",
            "installing: gst-plugins-base-1.12.4-h33fb286_0 ...\n",
            "installing: alabaster-0.7.10-py36h306e16b_0 ...\n",
            "installing: asn1crypto-0.24.0-py36_0 ...\n",
            "installing: attrs-17.4.0-py36_0 ...\n",
            "installing: backports-1.0-py36hfa02d7e_1 ...\n",
            "installing: beautifulsoup4-4.6.0-py36h49b8c8c_1 ...\n",
            "installing: bitarray-0.8.1-py36h14c3975_1 ...\n",
            "installing: boto-2.48.0-py36h6e4cd66_1 ...\n",
            "installing: cairo-1.14.12-h77bcde2_0 ...\n",
            "installing: certifi-2018.1.18-py36_0 ...\n",
            "installing: chardet-3.0.4-py36h0f667ec_1 ...\n",
            "installing: click-6.7-py36h5253387_0 ...\n",
            "installing: cloudpickle-0.5.2-py36_1 ...\n",
            "installing: colorama-0.3.9-py36h489cec4_0 ...\n",
            "installing: contextlib2-0.5.5-py36h6c84a62_0 ...\n",
            "installing: dask-core-0.16.1-py36_0 ...\n",
            "installing: decorator-4.2.1-py36_0 ...\n",
            "installing: docutils-0.14-py36hb0f60f5_0 ...\n",
            "installing: entrypoints-0.2.3-py36h1aec115_2 ...\n",
            "installing: et_xmlfile-1.0.1-py36hd6bccc3_0 ...\n",
            "installing: fastcache-1.0.2-py36h14c3975_2 ...\n",
            "installing: filelock-2.0.13-py36h646ffb5_0 ...\n",
            "installing: glob2-0.6-py36he249c77_0 ...\n",
            "installing: gmpy2-2.0.8-py36hc8893dd_2 ...\n",
            "installing: greenlet-0.4.12-py36h2d503a6_0 ...\n",
            "installing: heapdict-1.0.0-py36_2 ...\n",
            "installing: idna-2.6-py36h82fb2a8_1 ...\n",
            "installing: imagesize-0.7.1-py36h52d8127_0 ...\n",
            "installing: ipython_genutils-0.2.0-py36hb52b0d5_0 ...\n",
            "installing: itsdangerous-0.24-py36h93cc618_1 ...\n",
            "installing: jdcal-1.3-py36h4c697fb_0 ...\n",
            "installing: lazy-object-proxy-1.3.1-py36h10fcdad_0 ...\n",
            "installing: llvmlite-0.21.0-py36ha241eea_0 ...\n",
            "installing: locket-0.2.0-py36h787c0ad_1 ...\n",
            "installing: lxml-4.1.1-py36hf71bdeb_1 ...\n",
            "installing: markupsafe-1.0-py36hd9260cd_1 ...\n",
            "installing: mccabe-0.6.1-py36h5ad9710_1 ...\n",
            "installing: mistune-0.8.3-py36_0 ...\n",
            "installing: mkl-service-1.1.2-py36h17a0993_4 ...\n",
            "installing: mpmath-1.0.0-py36hfeacd6b_2 ...\n",
            "installing: msgpack-python-0.5.1-py36h6bb024c_0 ...\n",
            "installing: multipledispatch-0.4.9-py36h41da3fb_0 ...\n",
            "installing: numpy-1.14.0-py36h3dfced4_1 ...\n"
          ],
          "name": "stdout"
        }
      ]
    },
    {
      "metadata": {
        "id": "T3QAfnNNa_4m",
        "colab_type": "text"
      },
      "cell_type": "markdown",
      "source": [
        "# only if doing stimulus generation "
      ]
    },
    {
      "metadata": {
        "id": "kXYqBM2fY6lL",
        "colab_type": "code",
        "colab": {}
      },
      "cell_type": "code",
      "source": [
        "!pip install dlib"
      ],
      "execution_count": 0,
      "outputs": []
    },
    {
      "metadata": {
        "colab_type": "text",
        "id": "7xT6RqIhVTKe"
      },
      "cell_type": "markdown",
      "source": [
        "# Processes the source video \n",
        "to find frames with faces, and pull out the face structure, save side by side image "
      ]
    },
    {
      "metadata": {
        "colab_type": "code",
        "id": "zOW-THnuAOFh",
        "outputId": "13c480c0-8516-4f57-e0b9-ac9d6157710e",
        "colab": {
          "base_uri": "https://localhost:8080/",
          "height": 255
        }
      },
      "cell_type": "code",
      "source": [
        "print('Generating faces from video')\n",
        "!python face2face-demo/generate_train_data.py \\\n",
        "  --file /content/gdrive/My\\ Drive/DeepLearning/DelCloseBot/DelCloseMono.mp4 \\\n",
        "  --num 4000 \\\n",
        "  --landmark-model /content/gdrive/My\\ Drive/DeepLearning/DelCloseBot/shape_predictor_68_face_landmarks.dat\n",
        "\n",
        "print('Moving Images to Google Drive')\n",
        "# Move the original and landmarks folder into the google drive folder\n",
        "!mkdir /content/gdrive/My\\ Drive/DeepLearning/DelCloseBot/photos\n",
        "!cp -r landmarks -r original /content/gdrive/My\\ Drive/DeepLearning/DelCloseBot/photos\n",
        "\n",
        "print('Resizing Images')\n",
        "# Resize original images\n",
        "!python pix2pix-tensorflow/tools/process.py \\\n",
        "  --input_dir /content/gdrive/My\\ Drive/DeepLearning/DelCloseBot/photos/original \\\n",
        "  --operation resize \\\n",
        "  --output_dir /content/gdrive/My\\ Drive/DeepLearning/DelCloseBot/photos/original_resized\n",
        "  \n",
        "# Resize landmark images\n",
        "!python pix2pix-tensorflow/tools/process.py \\\n",
        "  --input_dir /content/gdrive/My\\ Drive/DeepLearning/DelCloseBot/photos/landmarks \\\n",
        "  --operation resize \\\n",
        "  --output_dir /content/gdrive/My\\ Drive/DeepLearning/DelCloseBot/photos/landmarks_resized\n",
        "\n",
        "print('Combining Images')\n",
        "# Combine both resized original and landmark images\n",
        "!python pix2pix-tensorflow/tools/process.py \\\n",
        "  --input_dir /content/gdrive/My\\ Drive/DeepLearning/DelCloseBot/photos/landmarks_resized \\\n",
        "  --b_dir /content/gdrive/My\\ Drive/DeepLearning/DelCloseBot/photos/original_resized \\\n",
        "  --operation combine \\\n",
        "  --output_dir /content/gdrive/My\\ Drive/DeepLearning/DelCloseBot/photos/combined\n",
        "  \n",
        "print('Spliting into training and val')\n",
        "# Split into train/val set\n",
        "!python pix2pix-tensorflow/tools/split.py \\\n",
        "  --dir /content/gdrive/My\\ Drive/DeepLearning/DelCloseBot/photos/combined"
      ],
      "execution_count": 0,
      "outputs": [
        {
          "output_type": "stream",
          "text": [
            "Generating faces from video\n",
            "Traceback (most recent call last):\n",
            "  File \"face2face-demo/generate_train_data.py\", line 96, in <module>\n",
            "    predictor = dlib.shape_predictor(args.face_landmark_shape_file)\n",
            "KeyboardInterrupt\n",
            "Moving Images to Google Drive\n",
            "mkdir: cannot create directory ‘/content/gdrive/My Drive/DeepLearning/DelCloseBot/photos’: File exists\n",
            "Resizing Images\n",
            "python: can't open file 'pix2pix-tensorflow/tools/process.py': [Errno 2] No such file or directory\n",
            "python: can't open file 'pix2pix-tensorflow/tools/process.py': [Errno 2] No such file or directory\n",
            "Combining Images\n",
            "python: can't open file 'pix2pix-tensorflow/tools/process.py': [Errno 2] No such file or directory\n",
            "Spliting into training and val\n",
            "python: can't open file 'pix2pix-tensorflow/tools/split.py': [Errno 2] No such file or directory\n"
          ],
          "name": "stdout"
        }
      ]
    },
    {
      "metadata": {
        "id": "tFKE2AHVbLGr",
        "colab_type": "text"
      },
      "cell_type": "markdown",
      "source": [
        "# Train the model for the first time"
      ]
    },
    {
      "metadata": {
        "colab_type": "code",
        "id": "GjNIOv1OAOKa",
        "outputId": "60836779-31ed-4bd8-effc-d260ac9cf574",
        "colab": {
          "base_uri": "https://localhost:8080/",
          "height": 2191
        }
      },
      "cell_type": "code",
      "source": [
        "# Train the model on the data for the first time\n",
        "!python pix2pix-tensorflow/pix2pix.py \\\n",
        "  --mode train \\\n",
        "  --output_dir /content/gdrive/My\\ Drive/DeepLearning/DelCloseBot/face2face-model \\\n",
        "  --max_epochs 10000 \\\n",
        "  --input_dir /content/gdrive/My\\ Drive/DeepLearning/DelCloseBot/photos/combined/train \\\n",
        "  --which_direction AtoB \\\n",
        "  --display_freq 50 \\\n",
        "  --save_freq 200"
      ],
      "execution_count": 0,
      "outputs": [
        {
          "output_type": "stream",
          "text": [
            "aspect_ratio = 1.0\n",
            "batch_size = 1\n",
            "beta1 = 0.5\n",
            "checkpoint = None\n",
            "display_freq = 50\n",
            "flip = True\n",
            "gan_weight = 1.0\n",
            "input_dir = /content/gdrive/My Drive/DeepLearning/DelCloseBot/photos/combined/train\n",
            "l1_weight = 100.0\n",
            "lab_colorization = False\n",
            "lr = 0.0002\n",
            "max_epochs = 10000\n",
            "max_steps = None\n",
            "mode = train\n",
            "ndf = 64\n",
            "ngf = 64\n",
            "output_dir = /content/gdrive/My Drive/DeepLearning/DelCloseBot/face2face-model\n",
            "output_filetype = png\n",
            "progress_freq = 50\n",
            "save_freq = 200\n",
            "scale_size = 286\n",
            "seed = 230210217\n",
            "separable_conv = False\n",
            "summary_freq = 100\n",
            "trace_freq = 0\n",
            "which_direction = AtoB\n",
            "examples count = 1719\n",
            "2019-01-26 05:22:56.547765: W tensorflow/core/platform/cpu_feature_guard.cc:45] The TensorFlow library wasn't compiled to use SSE4.1 instructions, but these are available on your machine and could speed up CPU computations.\n",
            "2019-01-26 05:22:56.547825: W tensorflow/core/platform/cpu_feature_guard.cc:45] The TensorFlow library wasn't compiled to use SSE4.2 instructions, but these are available on your machine and could speed up CPU computations.\n",
            "2019-01-26 05:22:56.547843: W tensorflow/core/platform/cpu_feature_guard.cc:45] The TensorFlow library wasn't compiled to use AVX instructions, but these are available on your machine and could speed up CPU computations.\n",
            "2019-01-26 05:22:56.547857: W tensorflow/core/platform/cpu_feature_guard.cc:45] The TensorFlow library wasn't compiled to use AVX2 instructions, but these are available on your machine and could speed up CPU computations.\n",
            "2019-01-26 05:22:56.547880: W tensorflow/core/platform/cpu_feature_guard.cc:45] The TensorFlow library wasn't compiled to use FMA instructions, but these are available on your machine and could speed up CPU computations.\n",
            "parameter_count = 57190084\n",
            "saving display images\n",
            "progress  epoch 1  step 50  image/sec 0.2  remaining 1770555m\n",
            "discrim_loss 0.36462802\n",
            "gen_loss_GAN 0.55249447\n",
            "gen_loss_L1 0.11272525\n",
            "recording summary\n",
            "saving display images\n",
            "progress  epoch 1  step 100  image/sec 0.2  remaining 1773797m\n",
            "discrim_loss 0.54484457\n",
            "gen_loss_GAN 0.944334\n",
            "gen_loss_L1 0.1571037\n",
            "saving display images\n",
            "progress  epoch 1  step 150  image/sec 0.2  remaining 1769572m\n",
            "discrim_loss 0.6251382\n",
            "gen_loss_GAN 1.208584\n",
            "gen_loss_L1 0.17649421\n",
            "recording summary\n",
            "saving display images\n",
            "progress  epoch 1  step 200  image/sec 0.2  remaining 1779631m\n",
            "discrim_loss 0.6283561\n",
            "gen_loss_GAN 1.4216208\n",
            "gen_loss_L1 0.18814583\n",
            "saving model\n",
            "saving display images\n",
            "progress  epoch 1  step 250  image/sec 0.2  remaining 1788627m\n",
            "discrim_loss 0.63871604\n",
            "gen_loss_GAN 1.5246307\n",
            "gen_loss_L1 0.19083282\n",
            "recording summary\n",
            "saving display images\n",
            "progress  epoch 1  step 300  image/sec 0.2  remaining 1790998m\n",
            "discrim_loss 0.6746191\n",
            "gen_loss_GAN 1.5931005\n",
            "gen_loss_L1 0.19014433\n",
            "saving display images\n",
            "progress  epoch 1  step 350  image/sec 0.2  remaining 1790234m\n",
            "discrim_loss 0.72490776\n",
            "gen_loss_GAN 1.5647954\n",
            "gen_loss_L1 0.19419308\n",
            "recording summary\n",
            "saving display images\n",
            "progress  epoch 1  step 400  image/sec 0.2  remaining 1793006m\n",
            "discrim_loss 0.75007766\n",
            "gen_loss_GAN 1.5428147\n",
            "gen_loss_L1 0.18687215\n",
            "saving model\n",
            "saving display images\n",
            "progress  epoch 1  step 450  image/sec 0.2  remaining 1795168m\n",
            "discrim_loss 0.7977119\n",
            "gen_loss_GAN 1.5175495\n",
            "gen_loss_L1 0.18416776\n",
            "recording summary\n",
            "saving display images\n",
            "progress  epoch 1  step 500  image/sec 0.2  remaining 1794385m\n",
            "discrim_loss 0.8339322\n",
            "gen_loss_GAN 1.4739778\n",
            "gen_loss_L1 0.17958654\n",
            "saving display images\n",
            "progress  epoch 1  step 550  image/sec 0.2  remaining 1792226m\n",
            "discrim_loss 0.88997525\n",
            "gen_loss_GAN 1.496081\n",
            "gen_loss_L1 0.17999573\n",
            "recording summary\n",
            "saving display images\n",
            "progress  epoch 1  step 600  image/sec 0.2  remaining 1790758m\n",
            "discrim_loss 0.87414914\n",
            "gen_loss_GAN 1.4553508\n",
            "gen_loss_L1 0.17766306\n",
            "saving model\n",
            "saving display images\n",
            "progress  epoch 1  step 650  image/sec 0.2  remaining 1791282m\n",
            "discrim_loss 0.9027797\n",
            "gen_loss_GAN 1.4127319\n",
            "gen_loss_L1 0.17544234\n",
            "recording summary\n",
            "saving display images\n",
            "progress  epoch 1  step 700  image/sec 0.2  remaining 1791418m\n",
            "discrim_loss 0.92564297\n",
            "gen_loss_GAN 1.385544\n",
            "gen_loss_L1 0.17214023\n",
            "saving display images\n",
            "progress  epoch 1  step 750  image/sec 0.2  remaining 1790581m\n",
            "discrim_loss 0.96472734\n",
            "gen_loss_GAN 1.3374575\n",
            "gen_loss_L1 0.16786088\n",
            "recording summary\n",
            "saving display images\n",
            "progress  epoch 1  step 800  image/sec 0.2  remaining 1790880m\n",
            "discrim_loss 0.9870555\n",
            "gen_loss_GAN 1.3314433\n",
            "gen_loss_L1 0.16536006\n",
            "saving model\n"
          ],
          "name": "stdout"
        }
      ]
    },
    {
      "metadata": {
        "id": "8ds_r32sbNQF",
        "colab_type": "text"
      },
      "cell_type": "markdown",
      "source": [
        "# Train the model from checkpoint"
      ]
    },
    {
      "metadata": {
        "colab_type": "code",
        "id": "UmsGdV5Fl11P",
        "outputId": "c4fbee0b-7b27-4a1f-83c2-05a758104cdb",
        "colab": {
          "base_uri": "https://localhost:8080/",
          "height": 1222
        }
      },
      "cell_type": "code",
      "source": [
        "# Train the model on the data from a checkpoint\n",
        "!python pix2pix-tensorflow/pix2pix.py \\\n",
        "  --mode train \\\n",
        "  --output_dir /content/gdrive/My\\ Drive/DeepLearning/DelCloseBot/face2face-model \\\n",
        "  --max_epochs 200 \\\n",
        "  --input_dir /content/gdrive/My\\ Drive/DeepLearning/DelCloseBot/photos/combined/train \\\n",
        "  --which_direction AtoB \\\n",
        "  --display_freq 50 \\\n",
        "  --checkpoint /content/gdrive/My\\ Drive/DeepLearning/DelCloseBot/face2face-model \\\n",
        "  --save_freq 200"
      ],
      "execution_count": 0,
      "outputs": [
        {
          "output_type": "stream",
          "text": [
            "aspect_ratio = 1.0\n",
            "batch_size = 1\n",
            "beta1 = 0.5\n",
            "checkpoint = /content/gdrive/My Drive/DeepLearning/DelCloseBot/face2face-model\n",
            "display_freq = 50\n",
            "flip = True\n",
            "gan_weight = 1.0\n",
            "input_dir = /content/gdrive/My Drive/DeepLearning/DelCloseBot/photos/combined/train\n",
            "l1_weight = 100.0\n",
            "lab_colorization = False\n",
            "lr = 0.0002\n",
            "max_epochs = 200\n",
            "max_steps = None\n",
            "mode = train\n",
            "ndf = 64\n",
            "ngf = 64\n",
            "output_dir = /content/gdrive/My Drive/DeepLearning/DelCloseBot/face2face-model\n",
            "output_filetype = png\n",
            "progress_freq = 50\n",
            "save_freq = 200\n",
            "scale_size = 286\n",
            "seed = 699686393\n",
            "separable_conv = False\n",
            "summary_freq = 100\n",
            "trace_freq = 0\n",
            "which_direction = AtoB\n",
            "examples count = 320\n",
            "2019-01-14 03:18:18.719988: W tensorflow/core/platform/cpu_feature_guard.cc:45] The TensorFlow library wasn't compiled to use SSE4.1 instructions, but these are available on your machine and could speed up CPU computations.\n",
            "2019-01-14 03:18:18.720049: W tensorflow/core/platform/cpu_feature_guard.cc:45] The TensorFlow library wasn't compiled to use SSE4.2 instructions, but these are available on your machine and could speed up CPU computations.\n",
            "2019-01-14 03:18:18.720067: W tensorflow/core/platform/cpu_feature_guard.cc:45] The TensorFlow library wasn't compiled to use AVX instructions, but these are available on your machine and could speed up CPU computations.\n",
            "2019-01-14 03:18:18.720119: W tensorflow/core/platform/cpu_feature_guard.cc:45] The TensorFlow library wasn't compiled to use AVX2 instructions, but these are available on your machine and could speed up CPU computations.\n",
            "2019-01-14 03:18:18.720155: W tensorflow/core/platform/cpu_feature_guard.cc:45] The TensorFlow library wasn't compiled to use FMA instructions, but these are available on your machine and could speed up CPU computations.\n",
            "parameter_count = 57190084\n",
            "loading model from checkpoint\n",
            "saving display images\n",
            "progress  epoch 13  step 10  image/sec 0.2  remaining 6652m\n",
            "discrim_loss 0.8314054\n",
            "gen_loss_GAN 1.7175435\n",
            "gen_loss_L1 0.14422226\n",
            "recording summary\n",
            "saving display images\n",
            "progress  epoch 13  step 60  image/sec 0.2  remaining 6684m\n",
            "discrim_loss 0.7959122\n",
            "gen_loss_GAN 1.7385631\n",
            "gen_loss_L1 0.14079136\n",
            "saving display images\n",
            "progress  epoch 13  step 110  image/sec 0.2  remaining 6661m\n",
            "discrim_loss 0.8159445\n",
            "gen_loss_GAN 1.6695079\n",
            "gen_loss_L1 0.13561772\n",
            "recording summary\n",
            "saving display images\n",
            "progress  epoch 13  step 160  image/sec 0.2  remaining 6662m\n",
            "discrim_loss 0.8240975\n",
            "gen_loss_GAN 1.6374682\n",
            "gen_loss_L1 0.13657467\n",
            "saving model\n",
            "saving display images\n",
            "progress  epoch 13  step 210  image/sec 0.2  remaining 6673m\n",
            "discrim_loss 0.8378862\n",
            "gen_loss_GAN 1.6688325\n",
            "gen_loss_L1 0.14199306\n",
            "recording summary\n",
            "saving display images\n",
            "progress  epoch 13  step 260  image/sec 0.2  remaining 6667m\n",
            "discrim_loss 0.8460852\n",
            "gen_loss_GAN 1.6969657\n",
            "gen_loss_L1 0.14471893\n"
          ],
          "name": "stdout"
        }
      ]
    },
    {
      "metadata": {
        "colab_type": "text",
        "id": "F7N_o1MejeqL"
      },
      "cell_type": "markdown",
      "source": [
        "## Now we export the model, by reducing and freezing it ##"
      ]
    },
    {
      "metadata": {
        "colab_type": "code",
        "id": "EkoNCb2P5cmZ",
        "outputId": "e7d648e1-c899-4a7e-f991-4b8a2a2d2d43",
        "colab": {
          "base_uri": "https://localhost:8080/",
          "height": 445
        }
      },
      "cell_type": "code",
      "source": [
        "#Reduce the model to save space during webcam inference\n",
        "!python face2face-demo/reduce_model.py \\\n",
        "  --model-input gdrive/My\\ Drive/DeepLearning/DelCloseBot/face2face-model \\\n",
        "  --model-output gdrive/My\\ Drive/DeepLearning/DelCloseBot/face2face-model-reduced\n",
        "\n",
        "#Freeze the Reduced Model |saves a file frozen_model.pb, download this or use one in link below|\n",
        "!python face2face-demo/freeze_model.py --model-folder gdrive/My\\ Drive/DeepLearning/DelCloseBot/face2face-model-reduced"
      ],
      "execution_count": 0,
      "outputs": [
        {
          "output_type": "stream",
          "text": [
            "2019-01-27 22:19:01.413903: I tensorflow/stream_executor/cuda/cuda_gpu_executor.cc:964] successful NUMA node read from SysFS had negative value (-1), but there must be at least one NUMA node, so returning NUMA node zero\n",
            "2019-01-27 22:19:01.414450: I tensorflow/core/common_runtime/gpu/gpu_device.cc:1432] Found device 0 with properties: \n",
            "name: Tesla K80 major: 3 minor: 7 memoryClockRate(GHz): 0.8235\n",
            "pciBusID: 0000:00:04.0\n",
            "totalMemory: 11.17GiB freeMemory: 11.10GiB\n",
            "2019-01-27 22:19:01.414491: I tensorflow/core/common_runtime/gpu/gpu_device.cc:1511] Adding visible gpu devices: 0\n",
            "2019-01-27 22:19:02.342609: I tensorflow/core/common_runtime/gpu/gpu_device.cc:982] Device interconnect StreamExecutor with strength 1 edge matrix:\n",
            "2019-01-27 22:19:02.342680: I tensorflow/core/common_runtime/gpu/gpu_device.cc:988]      0 \n",
            "2019-01-27 22:19:02.342711: I tensorflow/core/common_runtime/gpu/gpu_device.cc:1001] 0:   N \n",
            "2019-01-27 22:19:02.343026: W tensorflow/core/common_runtime/gpu/gpu_bfc_allocator.cc:42] Overriding allow_growth setting because the TF_FORCE_GPU_ALLOW_GROWTH environment variable is set. Original config value was 0.\n",
            "2019-01-27 22:19:02.343148: I tensorflow/core/common_runtime/gpu/gpu_device.cc:1115] Created TensorFlow device (/job:localhost/replica:0/task:0/device:GPU:0 with 10758 MB memory) -> physical GPU (device: 0, name: Tesla K80, pci bus id: 0000:00:04.0, compute capability: 3.7)\n",
            "Model is exported to /content/gdrive/My Drive/DeepLearning/DelCloseBot/face2face-model/model-12800\n",
            "2019-01-27 22:19:16.670004: I tensorflow/stream_executor/cuda/cuda_gpu_executor.cc:964] successful NUMA node read from SysFS had negative value (-1), but there must be at least one NUMA node, so returning NUMA node zero\n",
            "2019-01-27 22:19:16.670572: I tensorflow/core/common_runtime/gpu/gpu_device.cc:1432] Found device 0 with properties: \n",
            "name: Tesla K80 major: 3 minor: 7 memoryClockRate(GHz): 0.8235\n",
            "pciBusID: 0000:00:04.0\n",
            "totalMemory: 11.17GiB freeMemory: 11.10GiB\n",
            "2019-01-27 22:19:16.670611: I tensorflow/core/common_runtime/gpu/gpu_device.cc:1511] Adding visible gpu devices: 0\n",
            "2019-01-27 22:19:17.029972: I tensorflow/core/common_runtime/gpu/gpu_device.cc:982] Device interconnect StreamExecutor with strength 1 edge matrix:\n",
            "2019-01-27 22:19:17.030040: I tensorflow/core/common_runtime/gpu/gpu_device.cc:988]      0 \n",
            "2019-01-27 22:19:17.030059: I tensorflow/core/common_runtime/gpu/gpu_device.cc:1001] 0:   N \n",
            "2019-01-27 22:19:17.030348: W tensorflow/core/common_runtime/gpu/gpu_bfc_allocator.cc:42] Overriding allow_growth setting because the TF_FORCE_GPU_ALLOW_GROWTH environment variable is set. Original config value was 0.\n",
            "2019-01-27 22:19:17.030419: I tensorflow/core/common_runtime/gpu/gpu_device.cc:1115] Created TensorFlow device (/job:localhost/replica:0/task:0/device:GPU:0 with 10758 MB memory) -> physical GPU (device: 0, name: Tesla K80, pci bus id: 0000:00:04.0, compute capability: 3.7)\n",
            "491 ops in the final graph.\n"
          ],
          "name": "stdout"
        }
      ]
    },
    {
      "metadata": {
        "colab_type": "text",
        "id": "aqEcOXMpj91B"
      },
      "cell_type": "markdown",
      "source": [
        "Now run the demo - need to download model and do local\n",
        "\n",
        "download the face predictor model here:\n",
        "http://dlib.net/files/shape_predictor_68_face_landmarks.dat.bz2\n",
        "\n",
        "download frozen model above or this one:\n",
        "https://drive.google.com/open?id=1DkGbtIGmEdoOB_Ar4e3Tem8j9V7MemGb\n",
        "\n",
        "Save them and modify the locations shown below\n",
        "open terminal\n",
        "\n",
        "Note that you will create a conda environment, with an older version of tensor flow that needs to match the one used above to generate the model, errors can occur if the versions do not match\n",
        "\n",
        "## first time\n",
        "* show 0 to show the live webcam too, \n",
        "* show 2 to show large output image only, \n",
        "* show 1 is face tracking\n",
        "\n",
        "```\n",
        "git clone https://github.com/kylemath/face2face-demo.git\n",
        "cd face2face-demo\n",
        "conda env create -f environment.yml\n",
        "source activate face2face-demo\n",
        "python run_webcam_only.py \\\n",
        "  --source 0 \\\n",
        "  --show 0 \\\n",
        "  --landmark-model /Users/kylemathewson/face2face-demo/shape_predictor_68_face_landmarks.dat \\\n",
        "  --tf-model /Users/kylemathewson/face2face-demo/frozen_model.pb\n",
        "  \n",
        "```\n",
        "## subsequent times\n",
        "* show 0 to show the live webcam too, \n",
        "* show 2 to show large output image only, \n",
        "* show 1 is face tracking\n",
        "\n",
        "```\n",
        "cd face2face-demo\n",
        "source activate face2face-demo\n",
        "python run_webcam_only.py \\\n",
        "  --source 0 \\\n",
        "  --show 2 \\\n",
        "  --landmark-model /Users/kylemathewson/face2face-demo/shape_predictor_68_face_landmarks.dat \\\n",
        "  --tf-model /Users/kylemathewson/face2face-demo/frozen_model.pb\n",
        "  ```\n",
        "  \n",
        "\n"
      ]
    },
    {
      "metadata": {
        "id": "DSLyagSQZjKs",
        "colab_type": "code",
        "colab": {}
      },
      "cell_type": "code",
      "source": [
        ""
      ],
      "execution_count": 0,
      "outputs": []
    }
  ]
}